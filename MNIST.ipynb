{
 "cells": [
  {
   "cell_type": "markdown",
   "metadata": {},
   "source": [
    "# ***MNIST Example***"
   ]
  },
  {
   "cell_type": "code",
   "execution_count": null,
   "metadata": {},
   "outputs": [],
   "source": [
    "# please make sure that you have the following libraries, otherwise you shall install them.\n",
    "# just uncomment the pip command down below and run this cell\n",
    "# %pip install numpy matplotlib idx2numpy os plotly\n",
    "# pip install -U kaleido   # in cmd"
   ]
  },
  {
   "cell_type": "code",
   "execution_count": null,
   "metadata": {},
   "outputs": [],
   "source": [
    "import numpy as np\n",
    "import matplotlib.pyplot as plt\n",
    "import plotly.graph_objects as go\n",
    "import idx2numpy\n",
    "from nn import *"
   ]
  },
  {
   "cell_type": "code",
   "execution_count": null,
   "metadata": {},
   "outputs": [],
   "source": [
    "X_train = idx2numpy.convert_from_file(\n",
    "    './dataset/train-images-idx3-ubyte').reshape(60000, 784)\n",
    "X_cv, X_train = X_train[0 : 10000, :], X_train[10000 ::, :]\n",
    "X_test = idx2numpy.convert_from_file(\n",
    "    './dataset/t10k-images-idx3-ubyte').reshape(10000, 784)\n",
    "y_train = idx2numpy.convert_from_file('./dataset/train-labels-idx1-ubyte')\n",
    "y_cv, y_train = y_train[0 : 10000], y_train[10000 ::]\n",
    "y_test = idx2numpy.convert_from_file('./dataset/t10k-labels-idx1-ubyte')"
   ]
  },
  {
   "cell_type": "code",
   "execution_count": null,
   "metadata": {},
   "outputs": [],
   "source": [
    "print(X_train.shape)\n",
    "print(X_cv.shape)\n",
    "print(X_test.shape)\n",
    "print(y_train.shape)\n",
    "print(y_cv.shape)\n",
    "print(y_test.shape)"
   ]
  },
  {
   "cell_type": "code",
   "execution_count": null,
   "metadata": {},
   "outputs": [],
   "source": [
    "m, n = X_train.shape\n",
    "\n",
    "fig, axes = plt.subplots(8, 8, figsize=(10, 10))\n",
    "fig.tight_layout(pad=0.1)\n",
    "\n",
    "for i, ax in enumerate(axes.flat):\n",
    "    # Select random indices\n",
    "    random_index = np.random.randint(m)\n",
    "\n",
    "    # Select rows corresponding to the random indices and\n",
    "    # reshape the image\n",
    "    X_random_reshaped = X_train[random_index].reshape((28, 28))\n",
    "\n",
    "    # Display the image\n",
    "    ax.imshow(X_random_reshaped, cmap='PuBuGn')\n",
    "\n",
    "    # Display the label above the image\n",
    "    ax.set_title(y_train[random_index])\n",
    "    ax.set_axis_off()"
   ]
  },
  {
   "cell_type": "code",
   "execution_count": null,
   "metadata": {},
   "outputs": [],
   "source": [
    "def relu(Z): return np.maximum(0, Z)\n",
    "\n",
    "def relu_derevative(Z): return Z > 0\n",
    "\n",
    "def softmax(Z):\n",
    "    exponentias = np.exp(Z - np.max(Z, axis=1).reshape(-1, 1))\n",
    "    return exponentias / np.sum(exponentias, axis=1).reshape(-1, 1)\n",
    "\n",
    "def softmax_grad(soft):\n",
    "    s = soft.reshape(-1, 1)\n",
    "    return np.diagflat(s) - np.dot(s, s.T)"
   ]
  },
  {
   "cell_type": "code",
   "execution_count": null,
   "metadata": {},
   "outputs": [],
   "source": [
    "model = NeuralNetwork(\n",
    "    X_train=X_train,\n",
    "    X_cv=X_cv,\n",
    "    X_test=X_test,\n",
    "    y_train=y_train,\n",
    "    y_cv=y_cv,\n",
    "    y_test=y_test,\n",
    "    layers=[\n",
    "        Layer(neurons=25, activation=relu, activation_drev=relu_derevative),\n",
    "        Layer(neurons=15, activation=relu, activation_drev=relu_derevative),\n",
    "        Layer(neurons=10, activation=softmax, activation_drev=softmax_grad)\n",
    "    ]\n",
    ")"
   ]
  },
  {
   "cell_type": "code",
   "execution_count": null,
   "metadata": {},
   "outputs": [],
   "source": [
    "# Hyperparameters\n",
    "\n",
    "ALPHA = 0.035\n",
    "BETA_1 = 0.9\n",
    "BETA_2 = 0.999\n",
    "LAMBDA = 15.0\n",
    "LEARNING_RATE_DECAY = 0.0006\n",
    "NUM_EPOCHS = 50\n",
    "MINI_BATCH = 256"
   ]
  },
  {
   "cell_type": "code",
   "execution_count": null,
   "metadata": {},
   "outputs": [],
   "source": [
    "model.fit(NUM_EPOCHS, ALPHA, BETA_1, BETA_2, LAMBDA, MINI_BATCH, LEARNING_RATE_DECAY)"
   ]
  },
  {
   "cell_type": "code",
   "execution_count": null,
   "metadata": {},
   "outputs": [],
   "source": [
    "model.forwardPropagation(model.X_train_norm)\n",
    "print(f'training set prediction accuracy {100 * model.getAccuracy(y=model.y_train)}')\n",
    "\n",
    "model.forwardPropagation(model.X_cv_norm)\n",
    "print(f'cross validating set prediction accuracy {100 * model.getAccuracy(y=model.y_cv)}')\n",
    "\n",
    "model.forwardPropagation(model.X_test_norm)\n",
    "print(f'testing set prediction accuracy {100 * model.getAccuracy(y=model.y_test)}')"
   ]
  },
  {
   "cell_type": "code",
   "execution_count": null,
   "metadata": {},
   "outputs": [],
   "source": [
    "model.forwardPropagation(model.X_test_norm)\n",
    "\n",
    "m, n = X_test.shape\n",
    "\n",
    "fig, axes = plt.subplots(8, 8, figsize=(10, 10))\n",
    "fig.tight_layout(pad=0.1,rect=[0, 0.03, 1, 0.92]) #[left, bottom, right, top]\n",
    "\n",
    "for i, ax in enumerate(axes.flat):\n",
    "    # Select random indices\n",
    "    random_index = np.random.randint(m)\n",
    "    \n",
    "    # Select rows corresponding to the random indices and\n",
    "    # reshape the image\n",
    "    X_random_reshaped = X_test[random_index].reshape((28,28))\n",
    "    \n",
    "    # Display the image\n",
    "    ax.imshow(X_random_reshaped, cmap='PuBuGn')\n",
    "    \n",
    "    # Predict using the Neural Network\n",
    "    yhat = np.argmax(model.y_predict[random_index])\n",
    "\n",
    "    # Display the label above the image\n",
    "    ax.set_title(f\"{y_test[random_index]},{yhat}\")\n",
    "    ax.set_axis_off()\n",
    "\n",
    "fig.suptitle(\"Label, yhat\", fontsize=16)\n",
    "plt.show()"
   ]
  },
  {
   "cell_type": "code",
   "execution_count": null,
   "metadata": {},
   "outputs": [],
   "source": [
    "model.saveModel(index=1, learning_rate=ALPHA, beta1=BETA_1, beta2=BETA_2, lambda_=LAMBDA, mini_batch=MINI_BATCH, learning_rate_decay=LEARNING_RATE_DECAY)"
   ]
  }
 ],
 "metadata": {
  "kernelspec": {
   "display_name": "Python 3.9.12 ('base')",
   "language": "python",
   "name": "python3"
  },
  "language_info": {
   "codemirror_mode": {
    "name": "ipython",
    "version": 3
   },
   "file_extension": ".py",
   "mimetype": "text/x-python",
   "name": "python",
   "nbconvert_exporter": "python",
   "pygments_lexer": "ipython3",
   "version": "3.9.12"
  },
  "orig_nbformat": 4,
  "vscode": {
   "interpreter": {
    "hash": "5f9de6002feec04b404f0b7f8f6587025d4443351c01b275e2f110528afd180c"
   }
  }
 },
 "nbformat": 4,
 "nbformat_minor": 2
}
